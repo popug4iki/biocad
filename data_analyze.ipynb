{
 "cells": [
  {
   "cell_type": "markdown",
   "metadata": {},
   "source": [
    "Импорты"
   ]
  },
  {
   "cell_type": "code",
   "execution_count": null,
   "metadata": {},
   "outputs": [],
   "source": [
    "!pip install langdetect"
   ]
  },
  {
   "cell_type": "code",
   "execution_count": 4,
   "metadata": {},
   "outputs": [],
   "source": [
    "import pandas as pd\n",
    "from langdetect import detect"
   ]
  },
  {
   "cell_type": "markdown",
   "metadata": {},
   "source": [
    "Соединеним файлы в  единый датасет. Для понимания на каком языке написан датасет, используем библиотеку langdetect"
   ]
  },
  {
   "cell_type": "code",
   "execution_count": 28,
   "metadata": {},
   "outputs": [
    {
     "name": "stdout",
     "output_type": "stream",
     "text": [
      "iter: 1\n",
      "iter: 2\n",
      "iter: 3\n",
      "iter: 4\n",
      "iter: 5\n"
     ]
    },
    {
     "data": {
      "text/html": [
       "<div>\n",
       "<style scoped>\n",
       "    .dataframe tbody tr th:only-of-type {\n",
       "        vertical-align: middle;\n",
       "    }\n",
       "\n",
       "    .dataframe tbody tr th {\n",
       "        vertical-align: top;\n",
       "    }\n",
       "\n",
       "    .dataframe thead th {\n",
       "        text-align: right;\n",
       "    }\n",
       "</style>\n",
       "<table border=\"1\" class=\"dataframe\">\n",
       "  <thead>\n",
       "    <tr style=\"text-align: right;\">\n",
       "      <th></th>\n",
       "      <th>article</th>\n",
       "      <th>abstract</th>\n",
       "    </tr>\n",
       "  </thead>\n",
       "  <tbody>\n",
       "    <tr>\n",
       "      <th>0</th>\n",
       "      <td>a recent systematic analysis showed that in 20...</td>\n",
       "      <td>background : the present study was carried out...</td>\n",
       "    </tr>\n",
       "    <tr>\n",
       "      <th>1</th>\n",
       "      <td>it occurs in more than 50% of patients and may...</td>\n",
       "      <td>backgroundanemia in patients with cancer who a...</td>\n",
       "    </tr>\n",
       "    <tr>\n",
       "      <th>2</th>\n",
       "      <td>tardive dystonia ( td ) , a rarer side effect ...</td>\n",
       "      <td>tardive dystonia ( td ) is a serious side effe...</td>\n",
       "    </tr>\n",
       "    <tr>\n",
       "      <th>3</th>\n",
       "      <td>lepidoptera include agricultural pests that , ...</td>\n",
       "      <td>many lepidopteran insects are agricultural pes...</td>\n",
       "    </tr>\n",
       "    <tr>\n",
       "      <th>4</th>\n",
       "      <td>syncope is caused by transient diffuse cerebra...</td>\n",
       "      <td>we present an unusual case of recurrent cough ...</td>\n",
       "    </tr>\n",
       "    <tr>\n",
       "      <th>...</th>\n",
       "      <td>...</td>\n",
       "      <td>...</td>\n",
       "    </tr>\n",
       "    <tr>\n",
       "      <th>117103</th>\n",
       "      <td>eukaryotic cells depend on vesicle - mediated ...</td>\n",
       "      <td>long - distance trafficking of membranous stru...</td>\n",
       "    </tr>\n",
       "    <tr>\n",
       "      <th>117104</th>\n",
       "      <td>as regards the selection criteria of the post ...</td>\n",
       "      <td>aims and objectives : to study the stress conc...</td>\n",
       "    </tr>\n",
       "    <tr>\n",
       "      <th>117105</th>\n",
       "      <td>in most of the peer review publications in the...</td>\n",
       "      <td>abstractbackgroundthe objective of this study ...</td>\n",
       "    </tr>\n",
       "    <tr>\n",
       "      <th>117106</th>\n",
       "      <td>the reveal registry is a longitudinal registry...</td>\n",
       "      <td>background : patients with pulmonary arterial ...</td>\n",
       "    </tr>\n",
       "    <tr>\n",
       "      <th>117107</th>\n",
       "      <td>cerebral palsy is a nonprogressive central ner...</td>\n",
       "      <td>objective . to determine \\n if gait waveform c...</td>\n",
       "    </tr>\n",
       "  </tbody>\n",
       "</table>\n",
       "<p>117108 rows × 2 columns</p>\n",
       "</div>"
      ],
      "text/plain": [
       "                                                  article  \\\n",
       "0       a recent systematic analysis showed that in 20...   \n",
       "1       it occurs in more than 50% of patients and may...   \n",
       "2       tardive dystonia ( td ) , a rarer side effect ...   \n",
       "3       lepidoptera include agricultural pests that , ...   \n",
       "4       syncope is caused by transient diffuse cerebra...   \n",
       "...                                                   ...   \n",
       "117103  eukaryotic cells depend on vesicle - mediated ...   \n",
       "117104  as regards the selection criteria of the post ...   \n",
       "117105  in most of the peer review publications in the...   \n",
       "117106  the reveal registry is a longitudinal registry...   \n",
       "117107  cerebral palsy is a nonprogressive central ner...   \n",
       "\n",
       "                                                 abstract  \n",
       "0       background : the present study was carried out...  \n",
       "1       backgroundanemia in patients with cancer who a...  \n",
       "2       tardive dystonia ( td ) is a serious side effe...  \n",
       "3       many lepidopteran insects are agricultural pes...  \n",
       "4       we present an unusual case of recurrent cough ...  \n",
       "...                                                   ...  \n",
       "117103  long - distance trafficking of membranous stru...  \n",
       "117104  aims and objectives : to study the stress conc...  \n",
       "117105  abstractbackgroundthe objective of this study ...  \n",
       "117106  background : patients with pulmonary arterial ...  \n",
       "117107  objective . to determine \\n if gait waveform c...  \n",
       "\n",
       "[117108 rows x 2 columns]"
      ]
     },
     "execution_count": 28,
     "metadata": {},
     "output_type": "execute_result"
    }
   ],
   "source": [
    "path = 'data/'\n",
    "\n",
    "langs = []\n",
    "langCount = {}\n",
    "train_table = {'article': [], 'abstract': []}\n",
    "ind = {}\n",
    "for j in range(5):\n",
    "    table = pd.read_parquet(path + f'train-0000{j}-of-00005.parquet')\n",
    "    for i in table.values:\n",
    "        if i[0] != '':\n",
    "            train_table['article'].append(i[0])\n",
    "            train_table['abstract'].append(i[1])\n",
    "\n",
    "            lang = detect(i[1])\n",
    "            if lang not in langs:\n",
    "                langs.append(lang)\n",
    "                langCount[lang]=1\n",
    "                ind[lang] = i[1]\n",
    "            else:\n",
    "                langCount[lang]+=1\n",
    "    print('iter:', j+1)\n",
    "\n",
    "\n",
    "train = pd.DataFrame(train_table)\n",
    "train"
   ]
  },
  {
   "cell_type": "markdown",
   "metadata": {},
   "source": [
    "Теперь можно узнать на каких языках написаны статьи, а также сколько статей написаны на определённом языке"
   ]
  },
  {
   "cell_type": "code",
   "execution_count": 30,
   "metadata": {},
   "outputs": [
    {
     "data": {
      "text/plain": [
       "(['en', 'fr', 'it'], {'en': 117106, 'fr': 1, 'it': 1})"
      ]
     },
     "execution_count": 30,
     "metadata": {},
     "output_type": "execute_result"
    }
   ],
   "source": [
    "langs, langCount"
   ]
  },
  {
   "cell_type": "markdown",
   "metadata": {},
   "source": [
    "Почти все статьи написаны на английском. Выкинем лишние, чтобы улучшить качество обучения модели."
   ]
  },
  {
   "cell_type": "code",
   "execution_count": 34,
   "metadata": {},
   "outputs": [
    {
     "data": {
      "text/plain": [
       "(117106, 2)"
      ]
     },
     "execution_count": 34,
     "metadata": {},
     "output_type": "execute_result"
    }
   ],
   "source": [
    "for i in langs:\n",
    "    if i == 'en': continue\n",
    "    train = train[train['abstract']!= ind[i]]\n",
    "    \n",
    "train.shape"
   ]
  },
  {
   "cell_type": "code",
   "execution_count": 71,
   "metadata": {},
   "outputs": [
    {
     "data": {
      "text/plain": [
       "0"
      ]
     },
     "execution_count": 71,
     "metadata": {},
     "output_type": "execute_result"
    }
   ],
   "source": [
    "#проверка на наличие заглавных букв\n",
    "train['article'].apply(lambda x: x.istitle()).sum()"
   ]
  },
  {
   "cell_type": "markdown",
   "metadata": {},
   "source": [
    "В ходе анализа данных мы поняли, что в датасете находятся статьи, связанные с медицинскими иследованиями, биологией, химией.\n",
    "Главная особенность научных статей -  большое количество цифр, сокращений, вставных конструкций. Так, например в строке 65581 есть проценты, нумерование пунктов. В нулевой строке же в виде вставных конструкций фигурирует вероятность, которая обозначается буквой p. То есть модель должна научиться понимать сокращения и формулы. Проблемой так же может быть возникновение узконаправленных и редких терминов. В датасете так же было большое количество строк, на вход которых подавалась пустая строка, а на выходе был сокращенный текст. Данную проблему мы решили на момент загрузки датасета\n",
    "\n",
    "В датасете в столбцах article и abstract нет заглавных букв, а так же все знаки препинания отделены пробелами, то есть датасет уже токенизирован. Это значит, что нам не нужно обрабатывать данные. При внедрении модели в продукт надо будет подавать ей токенизированный текст.\n",
    "\n",
    "$$SOSI\\;Artem\\;Gonharov$$"
   ]
  },
  {
   "cell_type": "code",
   "execution_count": 69,
   "metadata": {
    "scrolled": false
   },
   "outputs": [
    {
     "data": {
      "text/plain": [
       "0"
      ]
     },
     "execution_count": 69,
     "metadata": {},
     "output_type": "execute_result"
    }
   ],
   "source": []
  },
  {
   "cell_type": "code",
   "execution_count": null,
   "metadata": {},
   "outputs": [],
   "source": []
  }
 ],
 "metadata": {
  "kernelspec": {
   "display_name": "Python 3 (ipykernel)",
   "language": "python",
   "name": "python3"
  },
  "language_info": {
   "codemirror_mode": {
    "name": "ipython",
    "version": 3
   },
   "file_extension": ".py",
   "mimetype": "text/x-python",
   "name": "python",
   "nbconvert_exporter": "python",
   "pygments_lexer": "ipython3",
   "version": "3.11.5"
  }
 },
 "nbformat": 4,
 "nbformat_minor": 2
}
