{
 "cells": [
  {
   "cell_type": "markdown",
   "metadata": {},
   "source": [
    "Импорты"
   ]
  },
  {
   "cell_type": "code",
   "execution_count": 1,
   "metadata": {},
   "outputs": [],
   "source": [
    "import pyarrow.parquet as pq\n",
    "import pandas as pd\n",
    "from langdetect import detect"
   ]
  },
  {
   "cell_type": "markdown",
   "metadata": {},
   "source": [
    "Соединение файлов в датасет и подсчет языков с помощью langdetect"
   ]
  },
  {
   "cell_type": "code",
   "execution_count": 3,
   "metadata": {},
   "outputs": [
    {
     "name": "stdout",
     "output_type": "stream",
     "text": [
      "asdasdsd\n",
      "asdasdsd\n",
      "asdasdsd\n",
      "asdasdsd\n",
      "asdasdsd\n"
     ]
    },
    {
     "data": {
      "text/html": [
       "<div>\n",
       "<style scoped>\n",
       "    .dataframe tbody tr th:only-of-type {\n",
       "        vertical-align: middle;\n",
       "    }\n",
       "\n",
       "    .dataframe tbody tr th {\n",
       "        vertical-align: top;\n",
       "    }\n",
       "\n",
       "    .dataframe thead th {\n",
       "        text-align: right;\n",
       "    }\n",
       "</style>\n",
       "<table border=\"1\" class=\"dataframe\">\n",
       "  <thead>\n",
       "    <tr style=\"text-align: right;\">\n",
       "      <th></th>\n",
       "      <th>article</th>\n",
       "      <th>abstract</th>\n",
       "    </tr>\n",
       "  </thead>\n",
       "  <tbody>\n",
       "    <tr>\n",
       "      <th>0</th>\n",
       "      <td>a recent systematic analysis showed that in 20...</td>\n",
       "      <td>background : the present study was carried out...</td>\n",
       "    </tr>\n",
       "    <tr>\n",
       "      <th>1</th>\n",
       "      <td>it occurs in more than 50% of patients and may...</td>\n",
       "      <td>backgroundanemia in patients with cancer who a...</td>\n",
       "    </tr>\n",
       "    <tr>\n",
       "      <th>2</th>\n",
       "      <td>tardive dystonia ( td ) , a rarer side effect ...</td>\n",
       "      <td>tardive dystonia ( td ) is a serious side effe...</td>\n",
       "    </tr>\n",
       "    <tr>\n",
       "      <th>3</th>\n",
       "      <td>lepidoptera include agricultural pests that , ...</td>\n",
       "      <td>many lepidopteran insects are agricultural pes...</td>\n",
       "    </tr>\n",
       "    <tr>\n",
       "      <th>4</th>\n",
       "      <td>syncope is caused by transient diffuse cerebra...</td>\n",
       "      <td>we present an unusual case of recurrent cough ...</td>\n",
       "    </tr>\n",
       "    <tr>\n",
       "      <th>...</th>\n",
       "      <td>...</td>\n",
       "      <td>...</td>\n",
       "    </tr>\n",
       "    <tr>\n",
       "      <th>117103</th>\n",
       "      <td>eukaryotic cells depend on vesicle - mediated ...</td>\n",
       "      <td>long - distance trafficking of membranous stru...</td>\n",
       "    </tr>\n",
       "    <tr>\n",
       "      <th>117104</th>\n",
       "      <td>as regards the selection criteria of the post ...</td>\n",
       "      <td>aims and objectives : to study the stress conc...</td>\n",
       "    </tr>\n",
       "    <tr>\n",
       "      <th>117105</th>\n",
       "      <td>in most of the peer review publications in the...</td>\n",
       "      <td>abstractbackgroundthe objective of this study ...</td>\n",
       "    </tr>\n",
       "    <tr>\n",
       "      <th>117106</th>\n",
       "      <td>the reveal registry is a longitudinal registry...</td>\n",
       "      <td>background : patients with pulmonary arterial ...</td>\n",
       "    </tr>\n",
       "    <tr>\n",
       "      <th>117107</th>\n",
       "      <td>cerebral palsy is a nonprogressive central ner...</td>\n",
       "      <td>objective . to determine \\n if gait waveform c...</td>\n",
       "    </tr>\n",
       "  </tbody>\n",
       "</table>\n",
       "<p>117108 rows × 2 columns</p>\n",
       "</div>"
      ],
      "text/plain": [
       "                                                  article  \\\n",
       "0       a recent systematic analysis showed that in 20...   \n",
       "1       it occurs in more than 50% of patients and may...   \n",
       "2       tardive dystonia ( td ) , a rarer side effect ...   \n",
       "3       lepidoptera include agricultural pests that , ...   \n",
       "4       syncope is caused by transient diffuse cerebra...   \n",
       "...                                                   ...   \n",
       "117103  eukaryotic cells depend on vesicle - mediated ...   \n",
       "117104  as regards the selection criteria of the post ...   \n",
       "117105  in most of the peer review publications in the...   \n",
       "117106  the reveal registry is a longitudinal registry...   \n",
       "117107  cerebral palsy is a nonprogressive central ner...   \n",
       "\n",
       "                                                 abstract  \n",
       "0       background : the present study was carried out...  \n",
       "1       backgroundanemia in patients with cancer who a...  \n",
       "2       tardive dystonia ( td ) is a serious side effe...  \n",
       "3       many lepidopteran insects are agricultural pes...  \n",
       "4       we present an unusual case of recurrent cough ...  \n",
       "...                                                   ...  \n",
       "117103  long - distance trafficking of membranous stru...  \n",
       "117104  aims and objectives : to study the stress conc...  \n",
       "117105  abstractbackgroundthe objective of this study ...  \n",
       "117106  background : patients with pulmonary arterial ...  \n",
       "117107  objective . to determine \\n if gait waveform c...  \n",
       "\n",
       "[117108 rows x 2 columns]"
      ]
     },
     "execution_count": 3,
     "metadata": {},
     "output_type": "execute_result"
    }
   ],
   "source": [
    "path = 'data/'\n",
    "\n",
    "langs = []\n",
    "\n",
    "train_table = {'article': [], 'abstract': []}\n",
    " \n",
    "for j in range(5):\n",
    "    table = pq.read_table(path + f'train-0000{j}-of-00005.parquet')\n",
    "    for i in table.to_pandas().values:\n",
    "        if i[0] != '':\n",
    "            train_table['article'].append(i[0])\n",
    "            train_table['abstract'].append(i[1])\n",
    "\n",
    "            lang = detect(i[1])\n",
    "            if lang not in langs:\n",
    "                langs.append(lang)\n",
    "    print('iter:', j+1)\n",
    "\n",
    "\n",
    "train = pd.DataFrame(train_table)\n",
    "train"
   ]
  },
  {
   "cell_type": "markdown",
   "metadata": {},
   "source": [
    "Теперь можно узнать на каких языках написаны статьи"
   ]
  },
  {
   "cell_type": "code",
   "execution_count": 4,
   "metadata": {},
   "outputs": [
    {
     "data": {
      "text/plain": [
       "['en', 'it']"
      ]
     },
     "execution_count": 4,
     "metadata": {},
     "output_type": "execute_result"
    },
    {
     "ename": "",
     "evalue": "",
     "output_type": "error",
     "traceback": [
      "\u001b[1;31mThe Kernel crashed while executing code in the current cell or a previous cell. \n",
      "\u001b[1;31mPlease review the code in the cell(s) to identify a possible cause of the failure. \n",
      "\u001b[1;31mClick <a href='https://aka.ms/vscodeJupyterKernelCrash'>here</a> for more info. \n",
      "\u001b[1;31mView Jupyter <a href='command:jupyter.viewOutput'>log</a> for further details."
     ]
    }
   ],
   "source": [
    "langs"
   ]
  }
 ],
 "metadata": {
  "kernelspec": {
   "display_name": "Python 3",
   "language": "python",
   "name": "python3"
  },
  "language_info": {
   "codemirror_mode": {
    "name": "ipython",
    "version": 3
   },
   "file_extension": ".py",
   "mimetype": "text/x-python",
   "name": "python",
   "nbconvert_exporter": "python",
   "pygments_lexer": "ipython3",
   "version": "3.12.6"
  }
 },
 "nbformat": 4,
 "nbformat_minor": 2
}
